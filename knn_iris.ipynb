{
  "nbformat": 4,
  "nbformat_minor": 0,
  "metadata": {
    "colab": {
      "name": "knn_iris.ipynb",
      "version": "0.3.2",
      "provenance": [],
      "include_colab_link": true
    },
    "kernelspec": {
      "name": "python3",
      "display_name": "Python 3"
    }
  },
  "cells": [
    {
      "cell_type": "markdown",
      "metadata": {
        "id": "view-in-github",
        "colab_type": "text"
      },
      "source": [
        "<a href=\"https://colab.research.google.com/github/parth025sharma/ML/blob/test/knn_iris.ipynb\" target=\"_parent\"><img src=\"https://colab.research.google.com/assets/colab-badge.svg\" alt=\"Open In Colab\"/></a>"
      ]
    },
    {
      "cell_type": "code",
      "metadata": {
        "id": "EqbG1mnVawZO",
        "colab_type": "code",
        "colab": {}
      },
      "source": [
        "#loading iris dataset\n",
        "from sklearn.datasets import load_iris"
      ],
      "execution_count": 0,
      "outputs": []
    },
    {
      "cell_type": "code",
      "metadata": {
        "id": "ZQHK0uPLgGuk",
        "colab_type": "code",
        "colab": {}
      },
      "source": [
        "#loading into variables\n",
        "iris_data=load_iris()"
      ],
      "execution_count": 0,
      "outputs": []
    },
    {
      "cell_type": "code",
      "metadata": {
        "id": "8iFBgoCQgMNX",
        "colab_type": "code",
        "colab": {
          "base_uri": "https://localhost:8080/",
          "height": 34
        },
        "outputId": "5e8044ba-8b5a-42c2-93ec-113e4af0fbed"
      },
      "source": [
        "#describing iris data internally\\\n",
        "dir(iris_data)"
      ],
      "execution_count": 95,
      "outputs": [
        {
          "output_type": "execute_result",
          "data": {
            "text/plain": [
              "['DESCR', 'data', 'feature_names', 'filename', 'target', 'target_names']"
            ]
          },
          "metadata": {
            "tags": []
          },
          "execution_count": 95
        }
      ]
    },
    {
      "cell_type": "code",
      "metadata": {
        "id": "SNJ1cWkcgqFV",
        "colab_type": "code",
        "colab": {
          "base_uri": "https://localhost:8080/",
          "height": 34
        },
        "outputId": "2b378e3f-96df-428b-a345-e0a96471332e"
      },
      "source": [
        "iris_data.target_names"
      ],
      "execution_count": 96,
      "outputs": [
        {
          "output_type": "execute_result",
          "data": {
            "text/plain": [
              "array(['setosa', 'versicolor', 'virginica'], dtype='<U10')"
            ]
          },
          "metadata": {
            "tags": []
          },
          "execution_count": 96
        }
      ]
    },
    {
      "cell_type": "code",
      "metadata": {
        "id": "xhSke8wMgvPE",
        "colab_type": "code",
        "colab": {
          "base_uri": "https://localhost:8080/",
          "height": 86
        },
        "outputId": "fe58215c-030c-4388-8772-1199d1826653"
      },
      "source": [
        "#Now attributes of features of a given data\n",
        "iris_data.feature_names"
      ],
      "execution_count": 97,
      "outputs": [
        {
          "output_type": "execute_result",
          "data": {
            "text/plain": [
              "['sepal length (cm)',\n",
              " 'sepal width (cm)',\n",
              " 'petal length (cm)',\n",
              " 'petal width (cm)']"
            ]
          },
          "metadata": {
            "tags": []
          },
          "execution_count": 97
        }
      ]
    },
    {
      "cell_type": "code",
      "metadata": {
        "id": "xRzUVpn8g87t",
        "colab_type": "code",
        "colab": {}
      },
      "source": [
        "# data with attribiutes\n",
        "iris_features=iris_data.data"
      ],
      "execution_count": 0,
      "outputs": []
    },
    {
      "cell_type": "code",
      "metadata": {
        "id": "oWVWZH6uhEE1",
        "colab_type": "code",
        "colab": {}
      },
      "source": [
        "# extracting label as per features\n",
        "label=iris_data.target"
      ],
      "execution_count": 0,
      "outputs": []
    },
    {
      "cell_type": "code",
      "metadata": {
        "id": "BGRv-I6-hktM",
        "colab_type": "code",
        "colab": {}
      },
      "source": [
        "#seperating data into training and testing\n",
        "from sklearn.model_selection import train_test_split as tts\n",
        "train_data,test_data,train_label,test_label=tts(iris_features,label,test_size=0.2)"
      ],
      "execution_count": 0,
      "outputs": []
    },
    {
      "cell_type": "code",
      "metadata": {
        "id": "LO6SCaTMhtYj",
        "colab_type": "code",
        "colab": {}
      },
      "source": [
        "# importing knn classifier \n",
        "from sklearn.neighbors import KNeighborsClassifier"
      ],
      "execution_count": 0,
      "outputs": []
    },
    {
      "cell_type": "code",
      "metadata": {
        "id": "stXgvUZrkSDz",
        "colab_type": "code",
        "colab": {}
      },
      "source": [
        "#now calling KNN clasifiers\n",
        "kclf=KNeighborsClassifier(n_neighbors=5) # this is by default value"
      ],
      "execution_count": 0,
      "outputs": []
    },
    {
      "cell_type": "code",
      "metadata": {
        "id": "SdAI0U72kwbC",
        "colab_type": "code",
        "colab": {}
      },
      "source": [
        "# now applying training data \n",
        "ktrained=kclf.fit(train_data,train_label)"
      ],
      "execution_count": 0,
      "outputs": []
    },
    {
      "cell_type": "code",
      "metadata": {
        "id": "7Nu9auJGlJQs",
        "colab_type": "code",
        "colab": {}
      },
      "source": [
        "# now time for prediction \n",
        "predict_output=ktrained.predict(test_data)"
      ],
      "execution_count": 0,
      "outputs": []
    },
    {
      "cell_type": "code",
      "metadata": {
        "id": "6pdihq4QlaR-",
        "colab_type": "code",
        "colab": {
          "base_uri": "https://localhost:8080/",
          "height": 52
        },
        "outputId": "a801b66b-7450-4217-9523-45fed1d469b0"
      },
      "source": [
        "predict_output"
      ],
      "execution_count": 105,
      "outputs": [
        {
          "output_type": "execute_result",
          "data": {
            "text/plain": [
              "array([0, 1, 2, 2, 2, 2, 1, 1, 2, 0, 2, 0, 0, 2, 1, 1, 1, 0, 0, 2, 0, 1,\n",
              "       1, 0, 0, 0, 2, 1, 1, 0])"
            ]
          },
          "metadata": {
            "tags": []
          },
          "execution_count": 105
        }
      ]
    },
    {
      "cell_type": "code",
      "metadata": {
        "id": "WalXFcOVlm9i",
        "colab_type": "code",
        "colab": {
          "base_uri": "https://localhost:8080/",
          "height": 52
        },
        "outputId": "91ebbf1b-2527-4e10-99a7-62ba7add69be"
      },
      "source": [
        "test_label"
      ],
      "execution_count": 106,
      "outputs": [
        {
          "output_type": "execute_result",
          "data": {
            "text/plain": [
              "array([0, 1, 2, 2, 2, 2, 1, 1, 2, 0, 2, 0, 0, 2, 1, 1, 1, 0, 0, 2, 0, 1,\n",
              "       1, 0, 0, 0, 2, 1, 1, 0])"
            ]
          },
          "metadata": {
            "tags": []
          },
          "execution_count": 106
        }
      ]
    },
    {
      "cell_type": "code",
      "metadata": {
        "id": "50yVUZBZlp1u",
        "colab_type": "code",
        "colab": {}
      },
      "source": [
        "#calculating accuracy score\n",
        "from sklearn.metrics import accuracy_score\n",
        "acrknn=accuracy_score(test_label,predict_output)"
      ],
      "execution_count": 0,
      "outputs": []
    },
    {
      "cell_type": "code",
      "metadata": {
        "id": "hthsCLcbmJFI",
        "colab_type": "code",
        "colab": {}
      },
      "source": [
        "# calling decision tree classifier for comparision\n",
        "from sklearn.tree import DecisionTreeClassifier\n",
        "dclf=DecisionTreeClassifier()"
      ],
      "execution_count": 0,
      "outputs": []
    },
    {
      "cell_type": "code",
      "metadata": {
        "id": "FjHKcpjVmcbo",
        "colab_type": "code",
        "colab": {}
      },
      "source": [
        "#Training decision tree\n",
        "dtrained=dclf.fit(train_data,train_label)"
      ],
      "execution_count": 0,
      "outputs": []
    },
    {
      "cell_type": "code",
      "metadata": {
        "id": "B34Hf728mqn1",
        "colab_type": "code",
        "colab": {}
      },
      "source": [
        "#now predicting\n",
        "dprediction=dtrained.predict(test_data)\n",
        "dacr=accuracy_score(test_label,dprediction)"
      ],
      "execution_count": 0,
      "outputs": []
    },
    {
      "cell_type": "code",
      "metadata": {
        "id": "YegMDmFPm1X5",
        "colab_type": "code",
        "colab": {
          "base_uri": "https://localhost:8080/",
          "height": 52
        },
        "outputId": "017850d6-f862-41a4-cbb4-ccbadc860898"
      },
      "source": [
        "print(\"tree algo= \",dacr)\n",
        "print(\"knn algo= \",acrknn)"
      ],
      "execution_count": 111,
      "outputs": [
        {
          "output_type": "stream",
          "text": [
            "tree algo=  1.0\n",
            "knn algo=  1.0\n"
          ],
          "name": "stdout"
        }
      ]
    },
    {
      "cell_type": "code",
      "metadata": {
        "id": "vFN956PGnL7u",
        "colab_type": "code",
        "colab": {
          "base_uri": "https://localhost:8080/",
          "height": 34
        },
        "outputId": "e2c15159-9dd7-4c45-8567-102143fdf2e1"
      },
      "source": [
        "'''#\n",
        "from matplotlib import pyplot as plt\n",
        "plt.xlabel(\"training data\")\n",
        "plt.ylabel(\"kvalue\")\n",
        "plt.plot()\n",
        "'''"
      ],
      "execution_count": 112,
      "outputs": [
        {
          "output_type": "execute_result",
          "data": {
            "text/plain": [
              "'#\\nfrom matplotlib import pyplot as plt\\nplt.xlabel(\"training data\")\\nplt.ylabel(\"kvalue\")\\nplt.plot()\\n'"
            ]
          },
          "metadata": {
            "tags": []
          },
          "execution_count": 112
        }
      ]
    }
  ]
}