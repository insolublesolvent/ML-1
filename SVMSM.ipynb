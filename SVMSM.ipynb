{
  "nbformat": 4,
  "nbformat_minor": 0,
  "metadata": {
    "colab": {
      "name": "SVMSM.ipynb",
      "version": "0.3.2",
      "provenance": [],
      "collapsed_sections": [],
      "include_colab_link": true
    },
    "kernelspec": {
      "name": "python3",
      "display_name": "Python 3"
    }
  },
  "cells": [
    {
      "cell_type": "markdown",
      "metadata": {
        "id": "view-in-github",
        "colab_type": "text"
      },
      "source": [
        "<a href=\"https://colab.research.google.com/github/parth025sharma/ML/blob/master/SVMSM.ipynb\" target=\"_parent\"><img src=\"https://colab.research.google.com/assets/colab-badge.svg\" alt=\"Open In Colab\"/></a>"
      ]
    },
    {
      "cell_type": "code",
      "metadata": {
        "id": "Pny38Id8K-wi",
        "colab_type": "code",
        "colab": {}
      },
      "source": [
        "from sklearn.datasets import load_digits\n",
        "#loading digit data\n",
        "digit=load_digits()"
      ],
      "execution_count": 0,
      "outputs": []
    },
    {
      "cell_type": "code",
      "metadata": {
        "id": "HDtCK_qJMNDS",
        "colab_type": "code",
        "colab": {
          "base_uri": "https://localhost:8080/",
          "height": 34
        },
        "outputId": "cef78500-14f6-4007-c853-b723f8bfbbc9"
      },
      "source": [
        "#describing data\n",
        "dir(digit)"
      ],
      "execution_count": 67,
      "outputs": [
        {
          "output_type": "execute_result",
          "data": {
            "text/plain": [
              "['DESCR', 'data', 'images', 'target', 'target_names']"
            ]
          },
          "metadata": {
            "tags": []
          },
          "execution_count": 67
        }
      ]
    },
    {
      "cell_type": "code",
      "metadata": {
        "id": "48jsHOZcMWaS",
        "colab_type": "code",
        "colab": {}
      },
      "source": [
        "features=digit.data\n",
        "#label\n",
        "label=digit.target"
      ],
      "execution_count": 0,
      "outputs": []
    },
    {
      "cell_type": "code",
      "metadata": {
        "id": "NeFDYkkOMiKq",
        "colab_type": "code",
        "colab": {}
      },
      "source": [
        "#training and testing\n",
        "from sklearn.model_selection import train_test_split\n",
        "train_data,test_data,train_label,test_label=train_test_split(features,label,test_size=0.2)"
      ],
      "execution_count": 0,
      "outputs": []
    },
    {
      "cell_type": "code",
      "metadata": {
        "id": "hus9KID8NIdD",
        "colab_type": "code",
        "colab": {
          "base_uri": "https://localhost:8080/",
          "height": 286
        },
        "outputId": "22bab499-650d-40d4-cf80-55ab8cf81b06"
      },
      "source": [
        "#data vizualization\n",
        "import matplotlib.pyplot as plt\n",
        "plt.imshow(digit.images[0])"
      ],
      "execution_count": 70,
      "outputs": [
        {
          "output_type": "execute_result",
          "data": {
            "text/plain": [
              "<matplotlib.image.AxesImage at 0x7f6edac219e8>"
            ]
          },
          "metadata": {
            "tags": []
          },
          "execution_count": 70
        },
        {
          "output_type": "display_data",
          "data": {
            "image/png": "[encoded data removed]",
            "text/plain": [
              "<Figure size 432x288 with 1 Axes>"
            ]
          },
          "metadata": {
            "tags": []
          }
        }
      ]
    },
    {
      "cell_type": "code",
      "metadata": {
        "id": "zwL_Q77RNcfL",
        "colab_type": "code",
        "colab": {}
      },
      "source": [
        "#now calling svc\n",
        "from sklearn.svm import SVC"
      ],
      "execution_count": 0,
      "outputs": []
    },
    {
      "cell_type": "code",
      "metadata": {
        "id": "bYYieYkbNkx6",
        "colab_type": "code",
        "colab": {}
      },
      "source": [
        "#calling clf\n",
        "clf=SVC(kernel='poly')"
      ],
      "execution_count": 0,
      "outputs": []
    },
    {
      "cell_type": "markdown",
      "metadata": {
        "id": "RjX9xqP2N-qm",
        "colab_type": "text"
      },
      "source": [
        "**TO STUDY** \n",
        "Gammma \n",
        "\n",
        "Kernal \n",
        "\n",
        "SVC"
      ]
    },
    {
      "cell_type": "code",
      "metadata": {
        "id": "u2jyZiEaPAas",
        "colab_type": "code",
        "colab": {
          "base_uri": "https://localhost:8080/",
          "height": 72
        },
        "outputId": "82158643-5ad3-480d-e532-12032f731fa5"
      },
      "source": [
        "#now training classifier|clf\n",
        "trained=clf.fit(train_data,train_label)"
      ],
      "execution_count": 73,
      "outputs": [
        {
          "output_type": "stream",
          "text": [
            "/usr/local/lib/python3.6/dist-packages/sklearn/svm/base.py:193: FutureWarning: The default value of gamma will change from 'auto' to 'scale' in version 0.22 to account better for unscaled features. Set gamma explicitly to 'auto' or 'scale' to avoid this warning.\n",
            "  \"avoid this warning.\", FutureWarning)\n"
          ],
          "name": "stderr"
        }
      ]
    },
    {
      "cell_type": "code",
      "metadata": {
        "id": "fwDBnyGCPeyJ",
        "colab_type": "code",
        "colab": {
          "base_uri": "https://localhost:8080/",
          "height": 208
        },
        "outputId": "e7bc868f-167e-4c01-8524-954657926822"
      },
      "source": [
        "predict=trained.predict(test_data)\n",
        "print(predict)\n",
        "from sklearn.metrics import accuracy_score\n",
        "accuracy_score(predict,test_label)"
      ],
      "execution_count": 74,
      "outputs": [
        {
          "output_type": "stream",
          "text": [
            "[9 7 2 8 0 5 3 9 4 1 9 2 7 1 8 6 2 7 0 4 7 5 3 1 7 9 2 5 1 5 1 5 2 8 7 0 5\n",
            " 8 7 6 7 4 7 1 6 7 4 5 4 4 1 5 8 2 5 6 9 4 6 9 4 3 5 1 7 3 8 6 9 6 2 3 3 0\n",
            " 8 4 2 3 3 3 4 9 9 0 1 2 3 3 3 5 5 7 9 4 2 0 0 2 2 9 2 0 9 7 6 0 3 0 9 0 3\n",
            " 6 1 9 5 4 8 5 7 6 8 2 3 8 2 2 0 2 3 5 1 7 8 9 0 5 0 4 5 2 4 2 9 3 9 1 3 2\n",
            " 5 1 3 1 3 2 2 4 8 1 0 8 9 2 4 0 0 1 6 0 0 5 9 7 2 1 6 5 8 6 9 6 8 5 3 0 1\n",
            " 1 3 2 1 9 4 0 7 1 7 1 2 4 2 1 5 2 8 1 4 9 0 4 1 1 9 5 0 5 2 7 6 5 4 1 5 5\n",
            " 2 8 1 1 5 6 5 4 3 1 1 5 7 8 1 9 9 1 5 3 6 0 8 6 9 5 8 2 3 4 7 2 6 9 9 8 6\n",
            " 9 7 9 8 0 4 8 8 1 6 1 4 9 3 6 3 1 3 2 6 1 6 8 1 5 6 8 8 0 5 5 5 5 6 0 3 4\n",
            " 0 3 4 1 8 2 7 4 8 5 5 9 1 5 5 4 9 7 3 4 6 4 7 7 0 2 2 3 7 6 1 9 5 4 8 5 0\n",
            " 9 5 0 8 5 0 4 3 4 3 7 0 7 5 5 3 3 4 9 9 6 3 9 2 8 3 6]\n"
          ],
          "name": "stdout"
        },
        {
          "output_type": "execute_result",
          "data": {
            "text/plain": [
              "0.9888888888888889"
            ]
          },
          "metadata": {
            "tags": []
          },
          "execution_count": 74
        }
      ]
    }
  ]
}