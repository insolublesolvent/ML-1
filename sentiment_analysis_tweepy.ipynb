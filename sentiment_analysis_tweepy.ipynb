{
  "nbformat": 4,
  "nbformat_minor": 0,
  "metadata": {
    "colab": {
      "name": "sentiment_analysis_tweepy.ipynb",
      "version": "0.3.2",
      "provenance": [],
      "include_colab_link": true
    },
    "kernelspec": {
      "name": "python3",
      "display_name": "Python 3"
    }
  },
  "cells": [
    {
      "cell_type": "markdown",
      "metadata": {
        "id": "view-in-github",
        "colab_type": "text"
      },
      "source": [
        "<a href=\"https://colab.research.google.com/github/parth025sharma/ML/blob/master/sentiment_analysis_tweepy.ipynb\" target=\"_parent\"><img src=\"https://colab.research.google.com/assets/colab-badge.svg\" alt=\"Open In Colab\"/></a>"
      ]
    },
    {
      "cell_type": "code",
      "metadata": {
        "id": "d3rxiQcILIo7",
        "colab_type": "code",
        "colab": {}
      },
      "source": [
        "import tweepy\n",
        "import matplotlib.pyplot as plt\n",
        "from textblob import TextBlob"
      ],
      "execution_count": 0,
      "outputs": []
    },
    {
      "cell_type": "code",
      "metadata": {
        "id": "YpyyfWGCLbUv",
        "colab_type": "code",
        "colab": {}
      },
      "source": [
        "# all 4 authentication key to access twitter API\n",
        "#to  connect aS OATH handler or jump server /  reverse proxy server\n",
        "consumer_key='kZADq17e01p6ILN0u3vdgU1DH'\n",
        "consumer_sec='7bKnY3aGD1LZIDWbS6tVzru8zFZNV492oN9I51g7b6HctxC8Kb'\n",
        "\n",
        "# from proxy  server we need to connect to web server to twitter\n",
        "access_token='266449908-riSJfN9LFhHcRlm2NNkaA2EA30JGHEZf5rBnJPZR'\n",
        "access_sec='BZVZx7nxSAYbsYkpCnPQLpVVlQyFMFIaZ2T49vSbPFasE'"
      ],
      "execution_count": 0,
      "outputs": []
    },
    {
      "cell_type": "code",
      "metadata": {
        "id": "do7UllHvORZr",
        "colab_type": "code",
        "colab": {}
      },
      "source": [
        "# tweepy explore - ----\n",
        "# connecting  to jump server of twitter\n",
        "auth=tweepy.OAuthHandler(consumer_key,consumer_sec)"
      ],
      "execution_count": 0,
      "outputs": []
    },
    {
      "cell_type": "code",
      "metadata": {
        "id": "s_ks5YjjO875",
        "colab_type": "code",
        "colab": {}
      },
      "source": [
        "# now we can connect from jump server to web server of twitter\n",
        "auth.set_access_token(access_token,access_sec)"
      ],
      "execution_count": 0,
      "outputs": []
    },
    {
      "cell_type": "code",
      "metadata": {
        "id": "cPDzMe65PTge",
        "colab_type": "code",
        "colab": {}
      },
      "source": [
        "# now we can connect to API storage sever of twitter\n",
        "api_connect=tweepy.API(auth)"
      ],
      "execution_count": 0,
      "outputs": []
    },
    {
      "cell_type": "code",
      "metadata": {
        "id": "mV2aGYvkPa2W",
        "colab_type": "code",
        "colab": {}
      },
      "source": [
        "# now you can search any topic on twitter\n",
        "tweet_data=api_connect.search('modi',count=30)"
      ],
      "execution_count": 0,
      "outputs": []
    },
    {
      "cell_type": "code",
      "metadata": {
        "id": "YZgmlrlwQx6X",
        "colab_type": "code",
        "colab": {
          "base_uri": "https://localhost:8080/",
          "height": 1000
        },
        "outputId": "55aee01e-09c2-4e90-90e6-3c68c0ae1ed6"
      },
      "source": [
        "pos=0\n",
        "neg=0\n",
        "neu=0\n",
        "#printing line by line\n",
        "for tweet in tweet_data:\n",
        "  #print(tweet.txt)\n",
        "  analysis=TextBlob(tweet.text) # here it will apply nlp\n",
        "  print(analysis.sentiment)\n",
        "  # now checking polarity onlly\n",
        "  if analysis.sentiment.polarity > 0 :\n",
        "    print(\"Positive\")\n",
        "    pos=pos+1\n",
        "  elif analysis.sentiment.polarity == 0 :\n",
        "    print(\"Neutral\")\n",
        "    neu=neu+1\n",
        "  else :\n",
        "    print(\"negetive\")\n",
        "    neg=neg+1\n",
        "# plotting graphs\n",
        "plt.xlabel(\"tags\")\n",
        "plt.ylabel(\"polarity\")\n",
        "plt.bar([\"pos\",\"neg\",\"neutral\"],[pos,neg,neu])\n",
        "#plt.pie([pos,neg,neu],labels=[\"pos\",\"neg\",\"neu\"],autopct=\"%1.ff%%\")\n",
        "plt.show()"
      ],
      "execution_count": 82,
      "outputs": [
        {
          "output_type": "stream",
          "text": [
            "Sentiment(polarity=0.0, subjectivity=0.0)\n",
            "Neutral\n",
            "Sentiment(polarity=-0.041666666666666664, subjectivity=0.5416666666666666)\n",
            "negetive\n",
            "Sentiment(polarity=0.0, subjectivity=0.0)\n",
            "Neutral\n",
            "Sentiment(polarity=0.35, subjectivity=0.48750000000000004)\n",
            "Positive\n",
            "Sentiment(polarity=0.0, subjectivity=0.0)\n",
            "Neutral\n",
            "Sentiment(polarity=0.0, subjectivity=0.0)\n",
            "Neutral\n",
            "Sentiment(polarity=0.0, subjectivity=0.0)\n",
            "Neutral\n",
            "Sentiment(polarity=0.0, subjectivity=0.0)\n",
            "Neutral\n",
            "Sentiment(polarity=0.5, subjectivity=0.5)\n",
            "Positive\n",
            "Sentiment(polarity=0.13636363636363635, subjectivity=0.5)\n",
            "Positive\n",
            "Sentiment(polarity=0.0, subjectivity=0.0)\n",
            "Neutral\n",
            "Sentiment(polarity=0.375, subjectivity=0.75)\n",
            "Positive\n",
            "Sentiment(polarity=-0.7625, subjectivity=0.8)\n",
            "negetive\n",
            "Sentiment(polarity=0.0, subjectivity=0.0)\n",
            "Neutral\n",
            "Sentiment(polarity=0.5, subjectivity=0.5)\n",
            "Positive\n",
            "Sentiment(polarity=0.0, subjectivity=0.0)\n",
            "Neutral\n",
            "Sentiment(polarity=0.5, subjectivity=0.6)\n",
            "Positive\n",
            "Sentiment(polarity=5.551115123125783e-17, subjectivity=0.6333333333333333)\n",
            "Positive\n",
            "Sentiment(polarity=-0.012500000000000011, subjectivity=0.65)\n",
            "negetive\n",
            "Sentiment(polarity=0.5, subjectivity=0.5)\n",
            "Positive\n",
            "Sentiment(polarity=0.0, subjectivity=0.0)\n",
            "Neutral\n"
          ],
          "name": "stdout"
        },
        {
          "output_type": "display_data",
          "data": {
            "image/png": "[encoded data removed]",
            "text/plain": [
              "<Figure size 432x288 with 1 Axes>"
            ]
          },
          "metadata": {
            "tags": []
          }
        }
      ]
    }
  ]
}