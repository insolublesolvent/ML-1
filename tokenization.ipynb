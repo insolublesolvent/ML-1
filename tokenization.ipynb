{
  "nbformat": 4,
  "nbformat_minor": 0,
  "metadata": {
    "colab": {
      "name": "tokenization.ipynb",
      "version": "0.3.2",
      "provenance": [],
      "collapsed_sections": [],
      "include_colab_link": true
    },
    "kernelspec": {
      "name": "python3",
      "display_name": "Python 3"
    }
  },
  "cells": [
    {
      "cell_type": "markdown",
      "metadata": {
        "id": "view-in-github",
        "colab_type": "text"
      },
      "source": [
        "<a href=\"https://colab.research.google.com/github/parth025sharma/ML/blob/master/tokenization.ipynb\" target=\"_parent\"><img src=\"https://colab.research.google.com/assets/colab-badge.svg\" alt=\"Open In Colab\"/></a>"
      ]
    },
    {
      "cell_type": "code",
      "metadata": {
        "id": "k-K_gEXMPgUW",
        "colab_type": "code",
        "colab": {}
      },
      "source": [
        "msg='''\n",
        "Dummy text: Its function as a filler or as a tool for comparing the visual impression of different typefaces.Dummy text is text that is used in the publishing industry or by web designers to occupy the space which will later be filled with 'real' content. \n",
        "This is required when, for example, the final text is not yet available. Dummy text is also known as 'fill text'. It is said that song composers of the past used dummy texts as lyrics when writing melodies in order to have a 'ready-made' text to sing with the melody. Dummy texts have been in use by typesetters since the 16th century.\n",
        "\n",
        "'''"
      ],
      "execution_count": 0,
      "outputs": []
    },
    {
      "cell_type": "code",
      "metadata": {
        "id": "JZiLlB-Na5OO",
        "colab_type": "code",
        "colab": {
          "base_uri": "https://localhost:8080/",
          "height": 86
        },
        "outputId": "107749b2-b640-47c0-bb77-25602e860a69"
      },
      "source": [
        "from nltk import sent_tokenize\n",
        "from nltk.corpus import stopwords\n",
        "from nltk import word_tokenize\n",
        "import nltk\n",
        "nltk.download('punkt')\n",
        "import nltk\n",
        "nltk.download('punkt')\n",
        "import matplotlib.pyplot as plt"
      ],
      "execution_count": 11,
      "outputs": [
        {
          "output_type": "stream",
          "text": [
            "[nltk_data] Downloading package punkt to /root/nltk_data...\n",
            "[nltk_data]   Package punkt is already up-to-date!\n",
            "[nltk_data] Downloading package punkt to /root/nltk_data...\n",
            "[nltk_data]   Package punkt is already up-to-date!\n"
          ],
          "name": "stdout"
        }
      ]
    },
    {
      "cell_type": "code",
      "metadata": {
        "id": "PuACUEupbH6z",
        "colab_type": "code",
        "colab": {}
      },
      "source": [
        "sent=sent_tokenize(msg) # tokenize para by sentence\n",
        "word=word_tokenize(msg) # tokenize para by word"
      ],
      "execution_count": 0,
      "outputs": []
    },
    {
      "cell_type": "code",
      "metadata": {
        "id": "9VUAUP3cbZ4a",
        "colab_type": "code",
        "colab": {}
      },
      "source": [
        "new=[i for i in word if i.lower()  not in stopwords.words('english')]"
      ],
      "execution_count": 0,
      "outputs": []
    },
    {
      "cell_type": "code",
      "metadata": {
        "id": "cKq4bbQjbqSY",
        "colab_type": "code",
        "colab": {}
      },
      "source": [
        "# applying NLTK FreqDist\n",
        "nlpnew=nltk.FreqDist(new)\n",
        "nlpnew.plot()"
      ],
      "execution_count": 0,
      "outputs": []
    }
  ]
}